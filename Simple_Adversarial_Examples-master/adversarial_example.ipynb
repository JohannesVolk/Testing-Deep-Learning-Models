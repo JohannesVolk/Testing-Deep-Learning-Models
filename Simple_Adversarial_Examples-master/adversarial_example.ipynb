{
 "cells": [
  {
   "cell_type": "code",
   "execution_count": 1,
   "source": [
    "%matplotlib inline\r\n",
    "import network.network as Network\r\n",
    "import network.mnist_loader as mnist_loader\r\n",
    "import pickle\r\n",
    "import matplotlib.pyplot as plt\r\n",
    "import cupy as cp\r\n",
    "import numpy as np\r\n",
    "import time as time\r\n",
    "\r\n",
    "import network.capture as capture\r\n"
   ],
   "outputs": [],
   "metadata": {}
  },
  {
   "cell_type": "code",
   "execution_count": 2,
   "source": [
    "training_data, validation_data, test_data = mnist_loader.load_data_wrapper()\r\n",
    "\r\n",
    "training_data = list(training_data)\r\n",
    "validation_data = list(validation_data)\r\n",
    "test_data = list(test_data)\r\n",
    "\r\n",
    "#bigNetwork: 784x392x196x196x10 neurons\r\n",
    "#smallNetwork: 784x100x10 neurnsta)\r\n",
    "\r\n",
    "with open('network/bigNetwork.pkl', 'rb') as f:\r\n",
    "    u = pickle._Unpickler(f)\r\n",
    "    u.encoding = 'latin1'\r\n",
    "    net = u.load()\r\n",
    "\r\n",
    "net.biases = list(map(cp.array,net.biases))\r\n",
    "net.weights = list(map(cp.array,net.weights))"
   ],
   "outputs": [],
   "metadata": {}
  },
  {
   "cell_type": "code",
   "execution_count": 3,
   "source": [
    "def train_new_network():\r\n",
    "\r\n",
    "    start = time.time()\r\n",
    "\r\n",
    "    newNet = Network.Network([392,392,1966,98,10])\r\n",
    "    newNet.SGD(training_data, 30, 100, 10, test_data=test_data)\r\n",
    "\r\n",
    "    end = time.time()\r\n",
    "    print(end - start) \r\n",
    "\r\n",
    "    \r\n",
    "    with open('network/newNet.pkl', 'rb') as file:\r\n",
    "        pickle.dump(newNet, file)\r\n",
    "    return newNet\r\n",
    "\r\n",
    "def evaluateNet(net):\r\n",
    "    print(\"start eval\")\r\n",
    "\r\n",
    "    start = time.time()\r\n",
    "\r\n",
    "    print(net.evaluate(test_data))\r\n",
    "\r\n",
    "    print(\"took \" + str(round(time.time() - start,2)) + \"seconds\")\r\n",
    "evaluateNet(net)"
   ],
   "outputs": [
    {
     "output_type": "stream",
     "name": "stdout",
     "text": [
      "start eval\n",
      "9577\n",
      "took 5.45seconds\n"
     ]
    }
   ],
   "metadata": {}
  },
  {
   "cell_type": "code",
   "execution_count": 4,
   "source": [
    "\r\n",
    "with open('network/pattern.pkl', 'rb') as pattern_file:\r\n",
    "  u_pattern = pickle._Unpickler(pattern_file)\r\n",
    "  u_pattern.encoding = 'latin1'\r\n",
    "  pattern= u_pattern.load()\r\n",
    "\r\n",
    "#generate new patterns (inefficient implementation and might take a long time)\r\n",
    "#    \r\n",
    "#pattern = net.extract_src_pattern(test\r\n",
    "#with open('network/newPattern.pkl', 'wb') as file2:  \r\n",
    "#       pickle.dump(pattern, file2)_data)\r\n",
    "\r\n",
    "def print_pattern(pattern):\r\n",
    "    # print(pattern)\r\n",
    "\r\n",
    "    l = []\r\n",
    "    for min, max in pattern:\r\n",
    "        # this is the function that aggregates the tuple of src activations\r\n",
    "        # might change this to better display the intervallsin pattern:\r\n",
    "        l.append(max+min);\r\n",
    "    l = list(map(cp.asnumpy,l))\r\n",
    "    l = np.stack(l)\r\n",
    "    l = l.res\r\n",
    "    plt.imshow(l)\r\n",
    "    plt.show()"
   ],
   "outputs": [],
   "metadata": {}
  },
  {
   "cell_type": "code",
   "execution_count": 5,
   "source": [
    "#print all patterns\r\n",
    "#\r\n",
    "#for i in range(0,10#):\r\n",
    "   #print_pattern(pattern[i])"
   ],
   "outputs": [],
   "metadata": {}
  },
  {
   "cell_type": "code",
   "execution_count": 6,
   "source": [
    "# start live-classification\r\n",
    "# need to specifiy the video source within the function\r\n",
    "# exit by pressing q in the opened window\r\n",
    "\r\n",
    "capture.capturenow(net,pattern)\r\n"
   ],
   "outputs": [
    {
     "output_type": "stream",
     "name": "stdout",
     "text": [
      "[[0.  ] [0.  ] [0.  ] [0.  ] [0.  ] [0.98] [0.  ] [0.  ] [0.  ] [0.  ]]\n",
      "Network prediction: 5\n",
      "\n",
      "out-of-bounds activations: 5\n"
     ]
    },
    {
     "output_type": "display_data",
     "data": {
      "text/plain": [
       "<Figure size 432x288 with 1 Axes>"
      ],
      "image/png": "[encoded data removed]"
     },
     "metadata": {
      "needs_background": "light"
     }
    }
   ],
   "metadata": {}
  },
  {
   "cell_type": "markdown",
   "source": [
    "Below are some functions provided by the source project"
   ],
   "metadata": {}
  },
  {
   "cell_type": "code",
   "execution_count": 7,
   "source": [
    "def sigmoid(z):\r\n",
    "    \"\"\"The sigmoid function.\"\"\"\r\n",
    "    return 1.0/(1.0+cp.exp(-z))\r\n",
    "                                                                                                                                                                                \r\n",
    "def sigmoid_prime(z):\r\n",
    "    \"\"\"Derivative of the sigmoid function.\"\"\"\r\n",
    "    return sigmoid(z)*(1-sigmoid(z))\r\n",
    "\r\n",
    "def input_derivative(net, x, y):\r\n",
    "    \"\"\" Calculate derivatives wrt the inputs\"\"\"\r\n",
    "    nabla_b = [cp.zeros(b.shape) for b in net.biases]\r\n",
    "    nabla_w = [cp.zeros(w.shape) for w in net.weights]\r\n",
    "    \r\n",
    "    # feedforward\r\n",
    "    activation = x\r\n",
    "    activations = [x] # list to store all the activations, layer by layer\r\n",
    "    zs = [] # list to store all the z vectors, layer by layer\r\n",
    "    for b, w in zip(net.biases, net.weights):\r\n",
    "        z = cp.dot(w, activation)+b\r\n",
    "        zs.append(z)\r\n",
    "        activation = sigmoid(z)\r\n",
    "        activations.append(activation)\r\n",
    "        \r\n",
    "    # backward pass\r\n",
    "    delta = net.cost_derivative(activations[-1], y) * \\\r\n",
    "        sigmoid_prime(zs[-1])\r\n",
    "    nabla_b[-1] = delta\r\n",
    "    nabla_w[-1] = cp.dot(delta, activations[-2].transpose())\r\n",
    "\r\n",
    "    for l in range(2, net.num_layers):\r\n",
    "        z = zs[-l]\r\n",
    "        sp = sigmoid_prime(z)\r\n",
    "        delta = cp.dot(net.weights[-l+1].transpose(), delta) * sp\r\n",
    "        nabla_b[-l] = delta\r\n",
    "        nabla_w[-l] = cp.dot(delta, activations[-l-1].transpose())\r\n",
    "        \r\n",
    "    # Return derivatives WRT to input\r\n",
    "    return net.weights[0].T.dot(delta)\r\n",
    "\r\n",
    "def adversarial(net, n, steps, eta):\r\n",
    "    \"\"\"\r\n",
    "    net : network object\r\n",
    "        neural network instance to use\r\n",
    "    n : integer\r\n",
    "        our goal label (just an int, the function transforms it into a one-hot vector)\r\n",
    "    steps : integer\r\n",
    "        number of steps for gradient descent\r\n",
    "    eta : float\r\n",
    "        step size for gradient descent\r\n",
    "    \"\"\"\r\n",
    "    # Set the goal output\r\n",
    "    goal = cp.zeros((10, 1))\r\n",
    "    goal[n] = 1\r\n",
    "\r\n",
    "    # Create a random image to initialize gradient descent with\r\n",
    "    x = cp.random.normal(.5, .3, (784, 1))\r\n",
    "\r\n",
    "    # Gradient descent on the input\r\n",
    "    for i in range(steps):\r\n",
    "        # Calculate the derivative\r\n",
    "        d = input_derivative(net,x,goal)\r\n",
    "        \r\n",
    "        # The GD update on x\r\n",
    "        x -= eta * d\r\n",
    "        \r\n",
    "    return x\r\n",
    "\r\n",
    "# Wrapper function\r\n",
    "def generate(n):\r\n",
    "   \r\n",
    "    a = adversarial(net, n, 10000, 3)\r\n",
    "    x = cp.round(net.feedforward(a), 2)\r\n",
    "    print(str(np.round(x, 2)).replace(\"\\n\",\"\"))\r\n",
    "    print('Network prediction: ' + str(cp.argmax(x)) + '\\n')\r\n",
    "    net.evaluate_src_pattern(pattern,a)\r\n",
    "\r\n",
    "    \r\n",
    "    print('Adversarial Example: ')\r\n",
    "    plt.imshow(np.reshape(cp.asnumpy(a),(28,28)), cmap='viridis')\r\n"
   ],
   "outputs": [],
   "metadata": {}
  },
  {
   "cell_type": "code",
   "execution_count": 8,
   "source": [
    "# generate a attack pattern for specified label\r\n",
    "# can yield poor results with big network due to small learning rate / iteration count \r\n",
    "generate(6)"
   ],
   "outputs": [
    {
     "output_type": "stream",
     "name": "stdout",
     "text": [
      "[[0.01] [0.  ] [0.  ] [0.  ] [0.  ] [0.  ] [0.98] [0.  ] [0.  ] [0.  ]]\n",
      "Network prediction: 6\n",
      "\n",
      "out-of-bounds activations: 142\n",
      "Adversarial Example: \n"
     ]
    },
    {
     "output_type": "display_data",
     "data": {
      "text/plain": [
       "<Figure size 432x288 with 1 Axes>"
      ],
      "image/png": "[encoded data removed]"
     },
     "metadata": {
      "needs_background": "light"
     }
    }
   ],
   "metadata": {}
  },
  {
   "cell_type": "code",
   "execution_count": 9,
   "source": [
    "def sneaky_adversarial(net, n, x_target, steps, eta, lam=.05):\r\n",
    "    \"\"\"\r\n",
    "    net : network object\r\n",
    "        neural network instance to use\r\n",
    "    n : integer\r\n",
    "        our goal label (just an int, the function transforms it into a one-hot vector)\r\n",
    "    x_target : numpy vector\r\n",
    "        our goal image for the adversarial example\r\n",
    "    steps : integer\r\n",
    "        number of steps for gradient descent\r\n",
    "    eta : float\r\n",
    "        step size for gradient descent\r\n",
    "    lam : float\r\n",
    "        lambda, our regularization parameter. Default is .05\r\n",
    "    \"\"\"\r\n",
    "    \r\n",
    "    # Set the goal output\r\n",
    "    goal = cp.zeros((10, 1))\r\n",
    "    goal[n] = 1\r\n",
    "\r\n",
    "    # Create a random image to initialize gradient descent with\r\n",
    "    x = cp.random.normal(.5, .3, (784, 1))\r\n",
    "\r\n",
    "    # Gradient descent on the input\r\n",
    "    for i in cp.arange(steps):\r\n",
    "        # Calculate the derivative\r\n",
    "        d = input_derivative(net,x,goal)\r\n",
    "        \r\n",
    "        # The GD update on x, with an added penalty to the cost function\r\n",
    "        # ONLY CHANGE IS RIGHT HERE!!!\r\n",
    "\r\n",
    "        x -= eta * (d+lam * (x-x_target))\r\n",
    "\r\n",
    "    return x\r\n",
    "\r\n",
    "# Wrapper function\r\n",
    "def sneaky_generate(n, m):\r\n",
    "    \"\"\"\r\n",
    "    n: int 0-9, the target number to match\r\n",
    "    m: index of example image to use (from the test set)\r\n",
    "    \"\"\"\r\n",
    "    \r\n",
    "    # Find random instance of m in test set\r\n",
    "    idx = np.random.randint(0,9999)\r\n",
    "\r\n",
    "    while test_data[idx][1] != m:\r\n",
    "        idx += 1\r\n",
    "    \r\n",
    "    a = sneaky_adversarial(net, n, test_data[idx][0], 10000, 3)\r\n",
    "    x = cp.round(net.feedforward(a), 2)\r\n",
    "    \r\n",
    "    print('\\nWhat we want our adversarial example to look like: ')\r\n",
    "    plt.imshow(np.reshape(cp.asnumpy(test_data[idx][0]),(28,28)), cmap='viridis')\r\n",
    "\r\n",
    "    plt.show()\r\n",
    "    \r\n",
    "    print('\\n')\r\n",
    "    \r\n",
    "    print('Adversarial Example: ')\r\n",
    "    \r\n",
    "    plt.imshow(np.reshape(cp.asnumpy(a),(28,28)), cmap='viridis')\r\n",
    "    plt.show()\r\n",
    "    print(str(np.round(x, 2)).replace(\"\\n\",\"\"))\r\n",
    "    print('Network prediction: ' + str(cp.argmax(a)) + '\\n')\r\n",
    "    net.evaluate_src_pattern(pattern,a)\r\n",
    "\r\n",
    "    return a"
   ],
   "outputs": [],
   "metadata": {}
  },
  {
   "cell_type": "code",
   "execution_count": 13,
   "source": [
    "# sneaky_generate(target label, target digit)\r\n",
    "# generate adversarial examples\r\n",
    "# some pairs work better than other\r\n",
    "adv_ex = sneaky_generate(3,5)"
   ],
   "outputs": [
    {
     "output_type": "stream",
     "name": "stdout",
     "text": [
      "\n",
      "What we want our adversarial example to look like: \n"
     ]
    },
    {
     "output_type": "display_data",
     "data": {
      "text/plain": [
       "<Figure size 432x288 with 1 Axes>"
      ],
      "image/png": "[encoded data removed]"
     },
     "metadata": {
      "needs_background": "light"
     }
    },
    {
     "output_type": "stream",
     "name": "stdout",
     "text": [
      "\n",
      "\n",
      "Adversarial Example: \n"
     ]
    },
    {
     "output_type": "display_data",
     "data": {
      "text/plain": [
       "<Figure size 432x288 with 1 Axes>"
      ],
      "image/png": "[encoded data removed]"
     },
     "metadata": {
      "needs_background": "light"
     }
    },
    {
     "output_type": "stream",
     "name": "stdout",
     "text": [
      "[[0.] [0.] [0.] [1.] [0.] [0.] [0.] [0.] [0.] [0.]]\n",
      "Network prediction: 348\n",
      "\n",
      "out-of-bounds activations: 2\n"
     ]
    }
   ],
   "metadata": {}
  },
  {
   "cell_type": "code",
   "execution_count": null,
   "source": [
    "def augment_data(n, data, steps):\r\n",
    "    \"\"\"\r\n",
    "    n : integer\r\n",
    "        number of adversarial examples to generate\r\n",
    "    data : list of tuples\r\n",
    "        data set to generate adversarial examples using\r\n",
    "    \"\"\"\r\n",
    "    # Our augmented training set:\r\n",
    "    augmented = []\r\n",
    "    \r\n",
    "    for i in cp.arange(n):\r\n",
    "        # Progress \"bar\"\r\n",
    "        if i % 100 == 0:\r\n",
    "            print(\"Generated digits: \" + str(i))\r\n",
    "            \r\n",
    "        # Randomly choose a digit that the example will look like\r\n",
    "        rnd_actual_digit = np.random.randint(10)\r\n",
    "        \r\n",
    "        # Find random instance of rnd_actual_digit in the training set\r\n",
    "        rnd_actual_idx = np.random.randint(len(data))\r\n",
    "        while cp.argmax(data[rnd_actual_idx][1]) != rnd_actual_digit:\r\n",
    "            rnd_actual_idx = np.random.randint(len(data))\r\n",
    "        x_target = data[rnd_actual_idx][0]\r\n",
    "        \r\n",
    "        # Choose value for adversarial attack\r\n",
    "        rnd_fake_digit = cp.random.randint(10)\r\n",
    "        \r\n",
    "        # Generate adversarial example\r\n",
    "        x_adversarial = sneaky_adversarial(net, rnd_fake_digit, x_target, steps, 1)\r\n",
    "        \r\n",
    "        # Add new data\r\n",
    "        y_actual = data[rnd_actual_idx][1]\r\n",
    "        \r\n",
    "        augmented.append((x_adversarial, y_actual))\r\n",
    "        \r\n",
    "    return augmented"
   ],
   "outputs": [],
   "metadata": {}
  },
  {
   "cell_type": "code",
   "execution_count": null,
   "source": [
    "# generate augmented data set\r\n",
    "# This will take quite a while ~(20 min per 10000)\r\n",
    "augmented = augment_data(10000, training_data, 100)"
   ],
   "outputs": [],
   "metadata": {}
  },
  {
   "cell_type": "code",
   "execution_count": null,
   "source": [
    "def check_augmented(i, augmented):\r\n",
    "    # Show image\r\n",
    "    print('Image: \\n')\r\n",
    "    plt.imshow(np.reshape(cp.asnumpy(augmented[i][0]),(28,28)), cmap='viridis')\r\n",
    "    plt.show()\r\n",
    "    \r\n",
    "    # Show original network prediction\r\n",
    "    print('Original network prediction: \\n')\r\n",
    "    print(cp.round(net.feedforward(augmented[i][0]), 2))\r\n",
    "    \r\n",
    "    # Show label\r\n",
    "    print('\\nLabel: \\n')\r\n",
    "    print(augmented[i][1])\r\n",
    "\r\n",
    "# check i^th adversarial image\r\n",
    "check_augmented(853, augmented)"
   ],
   "outputs": [],
   "metadata": {}
  },
  {
   "cell_type": "code",
   "execution_count": null,
   "source": [
    "# Create new network\r\n",
    "net2 = Network.Network([784,392,196,196,10])\r\n",
    "\r\n",
    "# Train on augmented + original training set\r\n",
    "net2.SGD(augmented + training_data, 30, 100, 10, test_data=test_data)"
   ],
   "outputs": [],
   "metadata": {}
  },
  {
   "cell_type": "markdown",
   "source": [
    "Let's checkout the accuracy of our newly trained network on adversarial examples from the new adversarial test set:"
   ],
   "metadata": {}
  },
  {
   "cell_type": "code",
   "execution_count": null,
   "source": [
    "print(\"first network:\")\r\n",
    "evaluateNet(net)\r\n",
    "\r\n",
    "print(\"\\nsecond network:\")\r\n",
    "evaluateNet(net2)"
   ],
   "outputs": [],
   "metadata": {}
  }
 ],
 "metadata": {
  "kernelspec": {
   "name": "python3",
   "display_name": "Python 3.8.3 64-bit"
  },
  "language_info": {
   "name": "python",
   "version": "3.8.3",
   "mimetype": "text/x-python",
   "codemirror_mode": {
    "name": "ipython",
    "version": 3
   },
   "pygments_lexer": "ipython3",
   "nbconvert_exporter": "python",
   "file_extension": ".py"
  },
  "interpreter": {
   "hash": "226b0bfe565b1b26ba0fac29fd4d427cb0aeca81c7a6f675349b9931f46b38c7"
  }
 },
 "nbformat": 4,
 "nbformat_minor": 2
}